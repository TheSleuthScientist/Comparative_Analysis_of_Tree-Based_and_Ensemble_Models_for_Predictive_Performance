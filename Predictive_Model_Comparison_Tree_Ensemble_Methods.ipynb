{
  "cells": [
    {
      "cell_type": "code",
      "execution_count": 5,
      "metadata": {
        "_cell_guid": "b1076dfc-b9ad-4769-8c92-a6c4dae69d19",
        "_uuid": "8f2839f25d086af736a60e9eeb907d3b93b6e0e5",
        "execution": {
          "iopub.execute_input": "2020-10-02T07:22:40.686871Z",
          "iopub.status.busy": "2020-10-02T07:22:40.678955Z",
          "iopub.status.idle": "2020-10-02T07:22:42.396324Z",
          "shell.execute_reply": "2020-10-02T07:22:42.395622Z"
        },
        "papermill": {
          "duration": 1.783483,
          "end_time": "2020-10-02T07:22:42.396468",
          "exception": false,
          "start_time": "2020-10-02T07:22:40.612985",
          "status": "completed"
        },
        "tags": [],
        "id": "weB7JeasBVry"
      },
      "outputs": [],
      "source": [
        "import pandas as pd\n",
        "import matplotlib.pyplot as plt\n",
        "import numpy as np\n",
        "from sklearn.preprocessing import StandardScaler, OrdinalEncoder, LabelEncoder\n",
        "from sklearn.linear_model import LogisticRegression, SGDClassifier\n",
        "from sklearn.model_selection import StratifiedKFold, train_test_split, cross_validate\n",
        "from sklearn.feature_selection import RFECV\n",
        "from sklearn.svm import SVC\n",
        "from sklearn.naive_bayes import GaussianNB\n",
        "from sklearn.neighbors import KNeighborsClassifier\n",
        "from sklearn.tree import DecisionTreeClassifier\n",
        "from sklearn.ensemble import AdaBoostClassifier,  GradientBoostingClassifier\n",
        "from sklearn.neural_network import MLPClassifier\n",
        "#from sklearn.metrics import accuracy_score, plot_confusion_matrix\n",
        "from xgboost import XGBClassifier\n",
        "from sklearn.ensemble import RandomForestClassifier\n",
        "from sklearn.model_selection import GridSearchCV\n",
        "from sklearn.metrics import confusion_matrix\n",
        "import time\n",
        "import sys\n",
        "import seaborn as sns\n",
        "import matplotlib.pyplot as plt\n",
        "import warnings\n",
        "warnings.filterwarnings(\"ignore\")\n",
        "%matplotlib inline\n",
        "random_state = 0"
      ]
    },
    {
      "cell_type": "code",
      "source": [
        "df=pd.read_csv('/dataset_110.csv')\n",
        "df.head()"
      ],
      "metadata": {
        "colab": {
          "base_uri": "https://localhost:8080/",
          "height": 206
        },
        "id": "1dqc-GuxIccK",
        "outputId": "d1aaf516-0636-4250-a390-10a3c099913d"
      },
      "execution_count": 8,
      "outputs": [
        {
          "output_type": "execute_result",
          "data": {
            "text/plain": [
              "   age         job  marital  education default  balance housing loan  contact  \\\n",
              "0   44  technician   single  secondary      no       29     yes   no  unknown   \n",
              "1   28  management   single   tertiary      no      447     yes  yes  unknown   \n",
              "2   58     retired  married    primary      no      121     yes   no  unknown   \n",
              "3   53  technician  married  secondary      no        6     yes   no  unknown   \n",
              "4   58  technician  married    unknown      no       71     yes   no  unknown   \n",
              "\n",
              "   day month  duration  campaign  pdays  previous poutcome   y  \n",
              "0    5   may       151         1     -1         0  unknown  no  \n",
              "1    5   may       217         1     -1         0  unknown  no  \n",
              "2    5   may        50         1     -1         0  unknown  no  \n",
              "3    5   may       517         1     -1         0  unknown  no  \n",
              "4    5   may        71         1     -1         0  unknown  no  "
            ],
            "text/html": [
              "\n",
              "  <div id=\"df-c9980f21-ef63-4920-9d5f-9a4cb90b1579\" class=\"colab-df-container\">\n",
              "    <div>\n",
              "<style scoped>\n",
              "    .dataframe tbody tr th:only-of-type {\n",
              "        vertical-align: middle;\n",
              "    }\n",
              "\n",
              "    .dataframe tbody tr th {\n",
              "        vertical-align: top;\n",
              "    }\n",
              "\n",
              "    .dataframe thead th {\n",
              "        text-align: right;\n",
              "    }\n",
              "</style>\n",
              "<table border=\"1\" class=\"dataframe\">\n",
              "  <thead>\n",
              "    <tr style=\"text-align: right;\">\n",
              "      <th></th>\n",
              "      <th>age</th>\n",
              "      <th>job</th>\n",
              "      <th>marital</th>\n",
              "      <th>education</th>\n",
              "      <th>default</th>\n",
              "      <th>balance</th>\n",
              "      <th>housing</th>\n",
              "      <th>loan</th>\n",
              "      <th>contact</th>\n",
              "      <th>day</th>\n",
              "      <th>month</th>\n",
              "      <th>duration</th>\n",
              "      <th>campaign</th>\n",
              "      <th>pdays</th>\n",
              "      <th>previous</th>\n",
              "      <th>poutcome</th>\n",
              "      <th>y</th>\n",
              "    </tr>\n",
              "  </thead>\n",
              "  <tbody>\n",
              "    <tr>\n",
              "      <th>0</th>\n",
              "      <td>44</td>\n",
              "      <td>technician</td>\n",
              "      <td>single</td>\n",
              "      <td>secondary</td>\n",
              "      <td>no</td>\n",
              "      <td>29</td>\n",
              "      <td>yes</td>\n",
              "      <td>no</td>\n",
              "      <td>unknown</td>\n",
              "      <td>5</td>\n",
              "      <td>may</td>\n",
              "      <td>151</td>\n",
              "      <td>1</td>\n",
              "      <td>-1</td>\n",
              "      <td>0</td>\n",
              "      <td>unknown</td>\n",
              "      <td>no</td>\n",
              "    </tr>\n",
              "    <tr>\n",
              "      <th>1</th>\n",
              "      <td>28</td>\n",
              "      <td>management</td>\n",
              "      <td>single</td>\n",
              "      <td>tertiary</td>\n",
              "      <td>no</td>\n",
              "      <td>447</td>\n",
              "      <td>yes</td>\n",
              "      <td>yes</td>\n",
              "      <td>unknown</td>\n",
              "      <td>5</td>\n",
              "      <td>may</td>\n",
              "      <td>217</td>\n",
              "      <td>1</td>\n",
              "      <td>-1</td>\n",
              "      <td>0</td>\n",
              "      <td>unknown</td>\n",
              "      <td>no</td>\n",
              "    </tr>\n",
              "    <tr>\n",
              "      <th>2</th>\n",
              "      <td>58</td>\n",
              "      <td>retired</td>\n",
              "      <td>married</td>\n",
              "      <td>primary</td>\n",
              "      <td>no</td>\n",
              "      <td>121</td>\n",
              "      <td>yes</td>\n",
              "      <td>no</td>\n",
              "      <td>unknown</td>\n",
              "      <td>5</td>\n",
              "      <td>may</td>\n",
              "      <td>50</td>\n",
              "      <td>1</td>\n",
              "      <td>-1</td>\n",
              "      <td>0</td>\n",
              "      <td>unknown</td>\n",
              "      <td>no</td>\n",
              "    </tr>\n",
              "    <tr>\n",
              "      <th>3</th>\n",
              "      <td>53</td>\n",
              "      <td>technician</td>\n",
              "      <td>married</td>\n",
              "      <td>secondary</td>\n",
              "      <td>no</td>\n",
              "      <td>6</td>\n",
              "      <td>yes</td>\n",
              "      <td>no</td>\n",
              "      <td>unknown</td>\n",
              "      <td>5</td>\n",
              "      <td>may</td>\n",
              "      <td>517</td>\n",
              "      <td>1</td>\n",
              "      <td>-1</td>\n",
              "      <td>0</td>\n",
              "      <td>unknown</td>\n",
              "      <td>no</td>\n",
              "    </tr>\n",
              "    <tr>\n",
              "      <th>4</th>\n",
              "      <td>58</td>\n",
              "      <td>technician</td>\n",
              "      <td>married</td>\n",
              "      <td>unknown</td>\n",
              "      <td>no</td>\n",
              "      <td>71</td>\n",
              "      <td>yes</td>\n",
              "      <td>no</td>\n",
              "      <td>unknown</td>\n",
              "      <td>5</td>\n",
              "      <td>may</td>\n",
              "      <td>71</td>\n",
              "      <td>1</td>\n",
              "      <td>-1</td>\n",
              "      <td>0</td>\n",
              "      <td>unknown</td>\n",
              "      <td>no</td>\n",
              "    </tr>\n",
              "  </tbody>\n",
              "</table>\n",
              "</div>\n",
              "    <div class=\"colab-df-buttons\">\n",
              "\n",
              "  <div class=\"colab-df-container\">\n",
              "    <button class=\"colab-df-convert\" onclick=\"convertToInteractive('df-c9980f21-ef63-4920-9d5f-9a4cb90b1579')\"\n",
              "            title=\"Convert this dataframe to an interactive table.\"\n",
              "            style=\"display:none;\">\n",
              "\n",
              "  <svg xmlns=\"http://www.w3.org/2000/svg\" height=\"24px\" viewBox=\"0 -960 960 960\">\n",
              "    <path d=\"M120-120v-720h720v720H120Zm60-500h600v-160H180v160Zm220 220h160v-160H400v160Zm0 220h160v-160H400v160ZM180-400h160v-160H180v160Zm440 0h160v-160H620v160ZM180-180h160v-160H180v160Zm440 0h160v-160H620v160Z\"/>\n",
              "  </svg>\n",
              "    </button>\n",
              "\n",
              "  <style>\n",
              "    .colab-df-container {\n",
              "      display:flex;\n",
              "      gap: 12px;\n",
              "    }\n",
              "\n",
              "    .colab-df-convert {\n",
              "      background-color: #E8F0FE;\n",
              "      border: none;\n",
              "      border-radius: 50%;\n",
              "      cursor: pointer;\n",
              "      display: none;\n",
              "      fill: #1967D2;\n",
              "      height: 32px;\n",
              "      padding: 0 0 0 0;\n",
              "      width: 32px;\n",
              "    }\n",
              "\n",
              "    .colab-df-convert:hover {\n",
              "      background-color: #E2EBFA;\n",
              "      box-shadow: 0px 1px 2px rgba(60, 64, 67, 0.3), 0px 1px 3px 1px rgba(60, 64, 67, 0.15);\n",
              "      fill: #174EA6;\n",
              "    }\n",
              "\n",
              "    .colab-df-buttons div {\n",
              "      margin-bottom: 4px;\n",
              "    }\n",
              "\n",
              "    [theme=dark] .colab-df-convert {\n",
              "      background-color: #3B4455;\n",
              "      fill: #D2E3FC;\n",
              "    }\n",
              "\n",
              "    [theme=dark] .colab-df-convert:hover {\n",
              "      background-color: #434B5C;\n",
              "      box-shadow: 0px 1px 3px 1px rgba(0, 0, 0, 0.15);\n",
              "      filter: drop-shadow(0px 1px 2px rgba(0, 0, 0, 0.3));\n",
              "      fill: #FFFFFF;\n",
              "    }\n",
              "  </style>\n",
              "\n",
              "    <script>\n",
              "      const buttonEl =\n",
              "        document.querySelector('#df-c9980f21-ef63-4920-9d5f-9a4cb90b1579 button.colab-df-convert');\n",
              "      buttonEl.style.display =\n",
              "        google.colab.kernel.accessAllowed ? 'block' : 'none';\n",
              "\n",
              "      async function convertToInteractive(key) {\n",
              "        const element = document.querySelector('#df-c9980f21-ef63-4920-9d5f-9a4cb90b1579');\n",
              "        const dataTable =\n",
              "          await google.colab.kernel.invokeFunction('convertToInteractive',\n",
              "                                                    [key], {});\n",
              "        if (!dataTable) return;\n",
              "\n",
              "        const docLinkHtml = 'Like what you see? Visit the ' +\n",
              "          '<a target=\"_blank\" href=https://colab.research.google.com/notebooks/data_table.ipynb>data table notebook</a>'\n",
              "          + ' to learn more about interactive tables.';\n",
              "        element.innerHTML = '';\n",
              "        dataTable['output_type'] = 'display_data';\n",
              "        await google.colab.output.renderOutput(dataTable, element);\n",
              "        const docLink = document.createElement('div');\n",
              "        docLink.innerHTML = docLinkHtml;\n",
              "        element.appendChild(docLink);\n",
              "      }\n",
              "    </script>\n",
              "  </div>\n",
              "\n",
              "\n",
              "<div id=\"df-d52c9a99-c3b7-4a6b-84bb-787a24ed6cd3\">\n",
              "  <button class=\"colab-df-quickchart\" onclick=\"quickchart('df-d52c9a99-c3b7-4a6b-84bb-787a24ed6cd3')\"\n",
              "            title=\"Suggest charts\"\n",
              "            style=\"display:none;\">\n",
              "\n",
              "<svg xmlns=\"http://www.w3.org/2000/svg\" height=\"24px\"viewBox=\"0 0 24 24\"\n",
              "     width=\"24px\">\n",
              "    <g>\n",
              "        <path d=\"M19 3H5c-1.1 0-2 .9-2 2v14c0 1.1.9 2 2 2h14c1.1 0 2-.9 2-2V5c0-1.1-.9-2-2-2zM9 17H7v-7h2v7zm4 0h-2V7h2v10zm4 0h-2v-4h2v4z\"/>\n",
              "    </g>\n",
              "</svg>\n",
              "  </button>\n",
              "\n",
              "<style>\n",
              "  .colab-df-quickchart {\n",
              "      --bg-color: #E8F0FE;\n",
              "      --fill-color: #1967D2;\n",
              "      --hover-bg-color: #E2EBFA;\n",
              "      --hover-fill-color: #174EA6;\n",
              "      --disabled-fill-color: #AAA;\n",
              "      --disabled-bg-color: #DDD;\n",
              "  }\n",
              "\n",
              "  [theme=dark] .colab-df-quickchart {\n",
              "      --bg-color: #3B4455;\n",
              "      --fill-color: #D2E3FC;\n",
              "      --hover-bg-color: #434B5C;\n",
              "      --hover-fill-color: #FFFFFF;\n",
              "      --disabled-bg-color: #3B4455;\n",
              "      --disabled-fill-color: #666;\n",
              "  }\n",
              "\n",
              "  .colab-df-quickchart {\n",
              "    background-color: var(--bg-color);\n",
              "    border: none;\n",
              "    border-radius: 50%;\n",
              "    cursor: pointer;\n",
              "    display: none;\n",
              "    fill: var(--fill-color);\n",
              "    height: 32px;\n",
              "    padding: 0;\n",
              "    width: 32px;\n",
              "  }\n",
              "\n",
              "  .colab-df-quickchart:hover {\n",
              "    background-color: var(--hover-bg-color);\n",
              "    box-shadow: 0 1px 2px rgba(60, 64, 67, 0.3), 0 1px 3px 1px rgba(60, 64, 67, 0.15);\n",
              "    fill: var(--button-hover-fill-color);\n",
              "  }\n",
              "\n",
              "  .colab-df-quickchart-complete:disabled,\n",
              "  .colab-df-quickchart-complete:disabled:hover {\n",
              "    background-color: var(--disabled-bg-color);\n",
              "    fill: var(--disabled-fill-color);\n",
              "    box-shadow: none;\n",
              "  }\n",
              "\n",
              "  .colab-df-spinner {\n",
              "    border: 2px solid var(--fill-color);\n",
              "    border-color: transparent;\n",
              "    border-bottom-color: var(--fill-color);\n",
              "    animation:\n",
              "      spin 1s steps(1) infinite;\n",
              "  }\n",
              "\n",
              "  @keyframes spin {\n",
              "    0% {\n",
              "      border-color: transparent;\n",
              "      border-bottom-color: var(--fill-color);\n",
              "      border-left-color: var(--fill-color);\n",
              "    }\n",
              "    20% {\n",
              "      border-color: transparent;\n",
              "      border-left-color: var(--fill-color);\n",
              "      border-top-color: var(--fill-color);\n",
              "    }\n",
              "    30% {\n",
              "      border-color: transparent;\n",
              "      border-left-color: var(--fill-color);\n",
              "      border-top-color: var(--fill-color);\n",
              "      border-right-color: var(--fill-color);\n",
              "    }\n",
              "    40% {\n",
              "      border-color: transparent;\n",
              "      border-right-color: var(--fill-color);\n",
              "      border-top-color: var(--fill-color);\n",
              "    }\n",
              "    60% {\n",
              "      border-color: transparent;\n",
              "      border-right-color: var(--fill-color);\n",
              "    }\n",
              "    80% {\n",
              "      border-color: transparent;\n",
              "      border-right-color: var(--fill-color);\n",
              "      border-bottom-color: var(--fill-color);\n",
              "    }\n",
              "    90% {\n",
              "      border-color: transparent;\n",
              "      border-bottom-color: var(--fill-color);\n",
              "    }\n",
              "  }\n",
              "</style>\n",
              "\n",
              "  <script>\n",
              "    async function quickchart(key) {\n",
              "      const quickchartButtonEl =\n",
              "        document.querySelector('#' + key + ' button');\n",
              "      quickchartButtonEl.disabled = true;  // To prevent multiple clicks.\n",
              "      quickchartButtonEl.classList.add('colab-df-spinner');\n",
              "      try {\n",
              "        const charts = await google.colab.kernel.invokeFunction(\n",
              "            'suggestCharts', [key], {});\n",
              "      } catch (error) {\n",
              "        console.error('Error during call to suggestCharts:', error);\n",
              "      }\n",
              "      quickchartButtonEl.classList.remove('colab-df-spinner');\n",
              "      quickchartButtonEl.classList.add('colab-df-quickchart-complete');\n",
              "    }\n",
              "    (() => {\n",
              "      let quickchartButtonEl =\n",
              "        document.querySelector('#df-d52c9a99-c3b7-4a6b-84bb-787a24ed6cd3 button');\n",
              "      quickchartButtonEl.style.display =\n",
              "        google.colab.kernel.accessAllowed ? 'block' : 'none';\n",
              "    })();\n",
              "  </script>\n",
              "</div>\n",
              "    </div>\n",
              "  </div>\n"
            ]
          },
          "metadata": {},
          "execution_count": 8
        }
      ]
    },
    {
      "cell_type": "markdown",
      "metadata": {
        "id": "brHqcSCJBVr1"
      },
      "source": [
        "### Feature Engineering, Scaling:"
      ]
    },
    {
      "cell_type": "code",
      "execution_count": 9,
      "metadata": {
        "_cell_guid": "79c7e3d0-c299-4dcb-8224-4455121ee9b0",
        "_uuid": "d629ff2d2480ee46fbb7e2d37f6b5fab8052498a",
        "execution": {
          "iopub.execute_input": "2020-10-02T07:22:42.581501Z",
          "iopub.status.busy": "2020-10-02T07:22:42.580673Z",
          "iopub.status.idle": "2020-10-02T07:22:42.677396Z",
          "shell.execute_reply": "2020-10-02T07:22:42.676626Z"
        },
        "papermill": {
          "duration": 0.15175,
          "end_time": "2020-10-02T07:22:42.677528",
          "exception": false,
          "start_time": "2020-10-02T07:22:42.525778",
          "status": "completed"
        },
        "tags": [],
        "id": "ykIUMv8bBVr3"
      },
      "outputs": [],
      "source": [
        "#X&y\n",
        "X = df.drop(columns=[\"y\"])\n",
        "y = df[\"y\"]\n",
        "\n",
        "#Use StandarScaler to standardize all numerical features, so their mean and standard deviation are zero and one, respectively.\n",
        "scaler = StandardScaler()\n",
        "X[X.select_dtypes(\"number\").columns] = scaler.fit_transform(X.select_dtypes(\"number\"))\n",
        "\n",
        "\n",
        "#Encode each categorical feature by using ordinal encoder.\n",
        "ordEnc = OrdinalEncoder(dtype=np.int)\n",
        "X[X.select_dtypes(\"object\").columns] = ordEnc.fit_transform(X.select_dtypes(\"object\"))\n",
        "\n",
        "#Also, don't forget to encode the label.\n",
        "labEnc = LabelEncoder()\n",
        "y = labEnc.fit_transform(y)"
      ]
    },
    {
      "cell_type": "markdown",
      "metadata": {
        "papermill": {
          "duration": 0.062164,
          "end_time": "2020-10-02T07:22:50.875250",
          "exception": false,
          "start_time": "2020-10-02T07:22:50.813086",
          "status": "completed"
        },
        "tags": [],
        "id": "jUm28OjNBVr4"
      },
      "source": [
        "### Recursive Feature Engineering, to select and train only on Important Features.\n",
        "### Do feature selection by using recursive feature elimination (RFE). Use Logistic Regression classifier as the estimator, and set the fold (k) for cross-validation to 10.\n"
      ]
    },
    {
      "cell_type": "code",
      "execution_count": 11,
      "metadata": {
        "execution": {
          "iopub.execute_input": "2020-10-02T07:22:51.012116Z",
          "iopub.status.busy": "2020-10-02T07:22:51.010710Z",
          "iopub.status.idle": "2020-10-02T07:22:58.811888Z",
          "shell.execute_reply": "2020-10-02T07:22:58.810638Z"
        },
        "papermill": {
          "duration": 7.874625,
          "end_time": "2020-10-02T07:22:58.812064",
          "exception": false,
          "start_time": "2020-10-02T07:22:50.937439",
          "status": "completed"
        },
        "tags": [],
        "id": "rgIeBlimBVr4"
      },
      "outputs": [],
      "source": [
        "#Using, Logistic Regression as the Estimtator.\n",
        "estimator = LogisticRegression(random_state=random_state)\n",
        "rfecv = RFECV(estimator=estimator, cv=StratifiedKFold(10, random_state=random_state, shuffle=True), scoring=\"accuracy\")\n",
        "rfecv.fit(X, y)\n",
        "#Make a line plot of number of selected features against cross-validation score. Then, print the optimal number of features.\n",
        "plt.figure(figsize=(8, 6))\n",
        "plt.plot(range(1, len(rfecv.grid_scores_)+1), rfecv.grid_scores_)\n",
        "plt.grid()\n",
        "plt.xticks(range(1, X.shape[1]+1))\n",
        "plt.xlabel(\"No. Selected Features\")\n",
        "plt.ylabel(\"Cross Validation Score\")\n",
        "plt.title(\"Recursive Feature Elimination (RFE)\")\n",
        "plt.show()\n",
        "\n",
        "#print(\"The optimal number of features: {}\".format(rfecv.n_features_))"
      ]
    },
    {
      "cell_type": "markdown",
      "metadata": {
        "papermill": {
          "duration": 0.066116,
          "end_time": "2020-10-02T07:23:00.286674",
          "exception": false,
          "start_time": "2020-10-02T07:23:00.220558",
          "status": "completed"
        },
        "tags": [],
        "id": "t-FQC4ioBVr6"
      },
      "source": [
        "Split the feature-selected DataFrame into train and test set. Also, do the same thing on the original DataFrame."
      ]
    },
    {
      "cell_type": "code",
      "execution_count": null,
      "metadata": {
        "execution": {
          "iopub.execute_input": "2020-10-02T07:23:00.427396Z",
          "iopub.status.busy": "2020-10-02T07:23:00.426085Z",
          "iopub.status.idle": "2020-10-02T07:23:00.443094Z",
          "shell.execute_reply": "2020-10-02T07:23:00.442292Z"
        },
        "papermill": {
          "duration": 0.090578,
          "end_time": "2020-10-02T07:23:00.443228",
          "exception": false,
          "start_time": "2020-10-02T07:23:00.352650",
          "status": "completed"
        },
        "tags": [],
        "id": "NkmOyMYeBVr6"
      },
      "outputs": [],
      "source": [
        "X_rfe = X.iloc[:, rfecv.support_]\n",
        "X_train, X_test, X_rfe_train, X_rfe_test, y_train, y_test = train_test_split(X, X_rfe, y,\n",
        "                                                                             train_size=0.8,\n",
        "                                                                             stratify=y,\n",
        "                                                                        random_state=random_state)\n",
        "# print(\"Train size: {}\".format(len(y_train)))\n",
        "# print(\"Test size: {}\".format(len(y_test)))"
      ]
    },
    {
      "cell_type": "code",
      "execution_count": null,
      "metadata": {
        "scrolled": false,
        "id": "5VL9n3DRBVr7",
        "outputId": "ad086024-b552-4b49-b07b-081e71460258"
      },
      "outputs": [
        {
          "name": "stdout",
          "output_type": "stream",
          "text": [
            "Model training using feature-selected data: started!\n",
            "Logistic Regression training: done! Training time: 3.2043986320495605 seconds.\n",
            "Best parameters: {'C': 1.0, 'penalty': 'l2'}\n"
          ]
        },
        {
          "data": {
            "image/png": "[encoded data removed]",
            "text/plain": [
              "<Figure size 432x288 with 2 Axes>"
            ]
          },
          "metadata": {
            "needs_background": "light"
          },
          "output_type": "display_data"
        },
        {
          "name": "stdout",
          "output_type": "stream",
          "text": [
            "XGBoost training: done! Training time: 24.463140726089478 seconds.\n",
            "Best parameters: {'learning_rate': 0.1, 'max_depth': 3}\n"
          ]
        },
        {
          "data": {
            "image/png": "[encoded data removed]",
            "text/plain": [
              "<Figure size 432x288 with 2 Axes>"
            ]
          },
          "metadata": {
            "needs_background": "light"
          },
          "output_type": "display_data"
        },
        {
          "name": "stdout",
          "output_type": "stream",
          "text": [
            "Random Forest training: done! Training time: 138.60211515426636 seconds.\n",
            "Best parameters: {'max_depth': None, 'n_estimators': 500}\n"
          ]
        },
        {
          "data": {
            "image/png": "[encoded data removed]",
            "text/plain": [
              "<Figure size 432x288 with 2 Axes>"
            ]
          },
          "metadata": {
            "needs_background": "light"
          },
          "output_type": "display_data"
        },
        {
          "name": "stdout",
          "output_type": "stream",
          "text": [
            "Model training using feature-selected data: done!\n",
            "Optimal parameters for all classifiers:\n",
            "             Classifier                           Best Parameters\n",
            "0  Logistic Regression               {'C': 1.0, 'penalty': 'l2'}\n",
            "1              XGBoost    {'learning_rate': 0.1, 'max_depth': 3}\n",
            "2        Random Forest  {'max_depth': None, 'n_estimators': 500}\n"
          ]
        }
      ],
      "source": [
        "import pandas as pd\n",
        "# Define the classifiers and their corresponding parameter grids\n",
        "classifiers = {\n",
        "    \"Logistic Regression\": (LogisticRegression(random_state=42), {\"C\": [0.1, 1.0, 10.0, 100.0], \"penalty\": [\"l1\", \"l2\"]}),\n",
        "    \"XGBoost\": (XGBClassifier(random_state=42), {\"learning_rate\": [0.1, 0.01, 0.001], \"max_depth\": [3, 5, 7]}),\n",
        "    \"Random Forest\": (RandomForestClassifier(random_state=42), {\"n_estimators\": [50, 100, 200, 500], \"max_depth\": [None, 5, 10, 15]})\n",
        "}\n",
        "\n",
        "clfs = {}\n",
        "clf_keys = classifiers.keys()\n",
        "# Define an empty dataframe to store the optimal parameters\n",
        "optimal_params_df = pd.DataFrame(columns=[\"Classifier\", \"Best Parameters\"])\n",
        "\n",
        "clfs = {}\n",
        "clf_keys = classifiers.keys()\n",
        "# Feature-selected dataset\n",
        "clfs_rfe = {}\n",
        "confusion_matrices_rfe = {}\n",
        "print(\"Model training using feature-selected data: started!\")\n",
        "for clf_rfe_name in clf_keys:\n",
        "    clf_rfe, param_grid_rfe = classifiers[clf_rfe_name]\n",
        "\n",
        "    # Perform grid search for the current classifier\n",
        "    grid_search_rfe = GridSearchCV(clf_rfe, param_grid_rfe, cv=5)  # Specify the number of folds for cross-validation (e.g., 5-fold)\n",
        "\n",
        "    start_time = time.time()\n",
        "\n",
        "    grid_search_rfe.fit(X_rfe_train, y_train)\n",
        "    clf_rfe = grid_search_rfe.best_estimator_\n",
        "\n",
        "    end_time = time.time()\n",
        "    training_time = end_time - start_time\n",
        "\n",
        "    clfs_rfe[clf_rfe_name] = clf_rfe\n",
        "\n",
        "    best_params_rfe = grid_search_rfe.best_params_  # Get the best parameters\n",
        "\n",
        "    print(clf_rfe_name, \"training: done! Training time:\", training_time, \"seconds.\")\n",
        "    print(\"Best parameters:\", best_params_rfe)  # Print the best parameters\n",
        "\n",
        "    # Compute confusion matrix\n",
        "    y_pred_rfe = clf_rfe.predict(X_rfe_test)\n",
        "    cm_rfe = confusion_matrix(y_test, y_pred_rfe)\n",
        "    confusion_matrices_rfe[clf_rfe_name] = cm_rfe\n",
        "\n",
        "    # Plot confusion matrix using seaborn\n",
        "    plt.figure(figsize=(6, 4))\n",
        "    sns.heatmap(cm_rfe, annot=True, fmt=\"d\", cmap=\"Blues\")\n",
        "    plt.title(f\"Confusion Matrix - {clf_rfe_name}\")\n",
        "    plt.xlabel(\"Predicted\")\n",
        "    plt.ylabel(\"Actual\")\n",
        "    plt.show()\n",
        "\n",
        "    # Append the optimal parameters to the dataframe\n",
        "    optimal_params_df = optimal_params_df.append({\"Classifier\": clf_rfe_name, \"Best Parameters\": best_params_rfe}, ignore_index=True)\n",
        "\n",
        "print(\"Model training using feature-selected data: done!\")\n",
        "print(\"Optimal parameters for all classifiers:\\n\", optimal_params_df)\n"
      ]
    },
    {
      "cell_type": "code",
      "execution_count": null,
      "metadata": {
        "id": "Mh0onr9wBVr9"
      },
      "outputs": [],
      "source": [
        "def random_search(clf,params, x_train,x_test,y_train,y_test):\n",
        "\n",
        "    random_search = RandomizedSearchCV(estimator= clf, param_distributions=params, scoring='roc_auc', cv=5)\n",
        "    random_search.fit(x_train, y_train)\n",
        "    optimal_model = random_search.best_estimator_\n",
        "\n",
        "    print(\"Best parameters are: \", random_search.best_params_)\n",
        "    print()\n",
        "    print(\"Best estimator is: \", random_search.best_estimator_)\n",
        "    print()\n",
        "    print('Scores and accuracies are:')\n",
        "    print()\n",
        "    classifier(optimal_model, x_train,x_test,y_train,y_test)"
      ]
    },
    {
      "cell_type": "code",
      "execution_count": null,
      "metadata": {
        "id": "z9vS42_iBVr9"
      },
      "outputs": [],
      "source": [
        "def classifier(clf, x_train,x_test,y_train,y_test):\n",
        "    y_test_pred = clf.predict(x_test)\n",
        "    y_train_pred = clf.predict(x_train)\n",
        "\n",
        "    accuracy_test = accuracy_score(y_test,y_test_pred)\n",
        "    accuracy_train =  accuracy_score(y_train,y_train_pred)\n",
        "\n",
        "    roc_test = roc_auc_score(y_test, y_test_pred, multi_class='ovr')\n",
        "    roc_train = roc_auc_score(y_train, y_train_pred, multi_class='ovr')\n",
        "\n",
        "    print('Train accuracy is:',accuracy_train )\n",
        "    print('Test accuracy is:',accuracy_test )\n",
        "    print()\n",
        "    print('Train ROC is:', roc_train)\n",
        "    print('Test ROC is:',roc_test )\n",
        "\n",
        "    # Fscore, precision and recall on test data\n",
        "    f1 = f1_score(y_test, y_test_pred)\n",
        "    precision = precision_score(y_test, y_test_pred)\n",
        "    recall = recall_score(y_test, y_test_pred)\n",
        "    print()\n",
        "    print(\"F score is:\",f1 )\n",
        "    print(\"Precision is:\",precision)\n",
        "    print(\"Recall is:\", recall)"
      ]
    },
    {
      "cell_type": "code",
      "execution_count": null,
      "metadata": {
        "id": "EqkJsXmOBVr-",
        "outputId": "cd82eb49-18f0-443c-8b32-6e3f64f24b04"
      },
      "outputs": [
        {
          "name": "stdout",
          "output_type": "stream",
          "text": [
            "Best parameters are:  {'min_samples_split': 14, 'min_samples_leaf': 25, 'max_depth': 12, 'criterion': 'gini'}\n",
            "\n",
            "Best estimator is:  DecisionTreeClassifier(max_depth=12, min_samples_leaf=25, min_samples_split=14,\n",
            "                       random_state=0)\n",
            "\n",
            "Scores and accuracies are:\n",
            "\n",
            "Train accuracy is: 0.9104432530393416\n",
            "Test accuracy is: 0.8964059196617337\n",
            "\n",
            "Train ROC is: 0.7097599611567991\n",
            "Test ROC is: 0.675672594619243\n",
            "\n",
            "F score is: 0.4665629860031104\n",
            "Precision is: 0.5859375\n",
            "Recall is: 0.3875968992248062\n"
          ]
        }
      ],
      "source": [
        "from sklearn.metrics import accuracy_score, f1_score, precision_score, recall_score, classification_report, confusion_matrix,r2_score\n",
        "from sklearn.model_selection import RandomizedSearchCV\n",
        "from sklearn.metrics import roc_auc_score\n",
        "param_grid = {'max_depth':np.arange(3,20),\n",
        "              'min_samples_split': np.arange(3,20,1),\n",
        "             'min_samples_leaf':np.arange(3,30),\n",
        "              'min_samples_split' : np.arange(3,30),\n",
        "              'criterion': ('gini', 'entropy')}\n",
        "\n",
        "\n",
        "\n",
        "random_search(DecisionTreeClassifier(random_state=0),param_grid, X_rfe_train, X_rfe_test,y_train,y_test)"
      ]
    },
    {
      "cell_type": "code",
      "execution_count": null,
      "metadata": {
        "id": "oei8FXoYBVr_",
        "outputId": "841ff8ac-d852-4956-9c10-05b36f28174c"
      },
      "outputs": [
        {
          "name": "stdout",
          "output_type": "stream",
          "text": [
            "Best parameters are:  {'min_samples_split': 10, 'min_samples_leaf': 20, 'max_depth': 9, 'criterion': 'entropy'}\n",
            "\n",
            "Best estimator is:  DecisionTreeClassifier(criterion='entropy', max_depth=9, min_samples_leaf=20,\n",
            "                       min_samples_split=10, random_state=0)\n",
            "\n",
            "Scores and accuracies are:\n",
            "\n",
            "Train accuracy is: 0.9127841123612475\n",
            "Test accuracy is: 0.8967079432195711\n",
            "\n",
            "Train ROC is: 0.715842480888759\n",
            "Test ROC is: 0.6769645842833258\n",
            "\n",
            "F score is: 0.468944099378882\n",
            "Precision is: 0.5875486381322957\n",
            "Recall is: 0.39018087855297157\n"
          ]
        }
      ],
      "source": [
        "from sklearn.metrics import accuracy_score, f1_score, precision_score, recall_score, classification_report, confusion_matrix,r2_score\n",
        "from sklearn.model_selection import RandomizedSearchCV\n",
        "from sklearn.metrics import roc_auc_score\n",
        "param_grid = {'max_depth':np.arange(3,20),\n",
        "              'min_samples_split': np.arange(3,20,1),\n",
        "             'min_samples_leaf':np.arange(3,30),\n",
        "              'min_samples_split' : np.arange(3,30),\n",
        "              'criterion': ('gini', 'entropy')}\n",
        "\n",
        "\n",
        "\n",
        "random_search(DecisionTreeClassifier(random_state=0),param_grid, X_train, X_test,y_train,y_test)"
      ]
    },
    {
      "cell_type": "code",
      "execution_count": null,
      "metadata": {
        "execution": {
          "iopub.execute_input": "2020-10-02T07:23:26.375279Z",
          "iopub.status.busy": "2020-10-02T07:23:26.373933Z",
          "iopub.status.idle": "2020-10-02T07:23:26.840686Z",
          "shell.execute_reply": "2020-10-02T07:23:26.841363Z"
        },
        "papermill": {
          "duration": 0.548301,
          "end_time": "2020-10-02T07:23:26.841577",
          "exception": false,
          "start_time": "2020-10-02T07:23:26.293276",
          "status": "completed"
        },
        "scrolled": false,
        "tags": [],
        "id": "urnrwi8NBVr_",
        "outputId": "10a952c8-1724-4551-d5af-f71412ecd529"
      },
      "outputs": [
        {
          "data": {
            "text/html": [
              "<div>\n",
              "<style scoped>\n",
              "    .dataframe tbody tr th:only-of-type {\n",
              "        vertical-align: middle;\n",
              "    }\n",
              "\n",
              "    .dataframe tbody tr th {\n",
              "        vertical-align: top;\n",
              "    }\n",
              "\n",
              "    .dataframe thead th {\n",
              "        text-align: right;\n",
              "    }\n",
              "</style>\n",
              "<table border=\"1\" class=\"dataframe\">\n",
              "  <thead>\n",
              "    <tr style=\"text-align: right;\">\n",
              "      <th></th>\n",
              "      <th>Feature-selected dataset</th>\n",
              "    </tr>\n",
              "  </thead>\n",
              "  <tbody>\n",
              "    <tr>\n",
              "      <th>Logistic Regression</th>\n",
              "      <td>0.887345</td>\n",
              "    </tr>\n",
              "    <tr>\n",
              "      <th>XGBoost</th>\n",
              "      <td>0.904259</td>\n",
              "    </tr>\n",
              "    <tr>\n",
              "      <th>Random Forest</th>\n",
              "      <td>0.901842</td>\n",
              "    </tr>\n",
              "  </tbody>\n",
              "</table>\n",
              "</div>"
            ],
            "text/plain": [
              "                     Feature-selected dataset\n",
              "Logistic Regression                  0.887345\n",
              "XGBoost                              0.904259\n",
              "Random Forest                        0.901842"
            ]
          },
          "execution_count": 7,
          "metadata": {},
          "output_type": "execute_result"
        }
      ],
      "source": [
        "# Feature selected dataset\n",
        "\n",
        "acc_rfe = []\n",
        "for clf_rfe_name, clf_rfe in clfs_rfe.items():\n",
        "    y_rfe_pred = clf_rfe.predict(X_rfe_test)\n",
        "    acc_rfe.append(accuracy_score(y_test, y_rfe_pred))\n",
        "\n",
        "acc_all = pd.DataFrame({\"Feature-selected dataset\": acc_rfe},\n",
        "                       index=clf_keys)\n",
        "acc_all"
      ]
    },
    {
      "cell_type": "code",
      "execution_count": null,
      "metadata": {
        "id": "x7KwBHFpBVsD",
        "outputId": "0aafef0c-cf75-447d-bf15-2a48ff12038a"
      },
      "outputs": [
        {
          "data": {
            "text/html": [
              "<div>\n",
              "<style scoped>\n",
              "    .dataframe tbody tr th:only-of-type {\n",
              "        vertical-align: middle;\n",
              "    }\n",
              "\n",
              "    .dataframe tbody tr th {\n",
              "        vertical-align: top;\n",
              "    }\n",
              "\n",
              "    .dataframe thead th {\n",
              "        text-align: right;\n",
              "    }\n",
              "</style>\n",
              "<table border=\"1\" class=\"dataframe\">\n",
              "  <thead>\n",
              "    <tr style=\"text-align: right;\">\n",
              "      <th></th>\n",
              "      <th>Classifier</th>\n",
              "      <th>Best Parameters</th>\n",
              "    </tr>\n",
              "  </thead>\n",
              "  <tbody>\n",
              "    <tr>\n",
              "      <th>0</th>\n",
              "      <td>Logistic Regression</td>\n",
              "      <td>{'C': 1.0, 'penalty': 'l2'}</td>\n",
              "    </tr>\n",
              "    <tr>\n",
              "      <th>1</th>\n",
              "      <td>XGBoost</td>\n",
              "      <td>{'learning_rate': 0.1, 'max_depth': 3}</td>\n",
              "    </tr>\n",
              "    <tr>\n",
              "      <th>2</th>\n",
              "      <td>Random Forest</td>\n",
              "      <td>{'max_depth': None, 'n_estimators': 500}</td>\n",
              "    </tr>\n",
              "  </tbody>\n",
              "</table>\n",
              "</div>"
            ],
            "text/plain": [
              "            Classifier                           Best Parameters\n",
              "0  Logistic Regression               {'C': 1.0, 'penalty': 'l2'}\n",
              "1              XGBoost    {'learning_rate': 0.1, 'max_depth': 3}\n",
              "2        Random Forest  {'max_depth': None, 'n_estimators': 500}"
            ]
          },
          "execution_count": 8,
          "metadata": {},
          "output_type": "execute_result"
        }
      ],
      "source": [
        "optimal_params_df"
      ]
    },
    {
      "cell_type": "markdown",
      "metadata": {
        "papermill": {
          "duration": 0.069414,
          "end_time": "2020-10-02T07:23:26.983617",
          "exception": false,
          "start_time": "2020-10-02T07:23:26.914203",
          "status": "completed"
        },
        "tags": [],
        "id": "gfiSHWHfBVsE"
      },
      "source": [
        "Make a bar plot of all accuracy results to visualize them."
      ]
    },
    {
      "cell_type": "code",
      "execution_count": null,
      "metadata": {
        "execution": {
          "iopub.execute_input": "2020-10-02T07:23:27.149818Z",
          "iopub.status.busy": "2020-10-02T07:23:27.142746Z",
          "iopub.status.idle": "2020-10-02T07:23:27.496815Z",
          "shell.execute_reply": "2020-10-02T07:23:27.495950Z"
        },
        "papermill": {
          "duration": 0.438972,
          "end_time": "2020-10-02T07:23:27.496952",
          "exception": false,
          "start_time": "2020-10-02T07:23:27.057980",
          "status": "completed"
        },
        "tags": [],
        "id": "tNh55PJGBVsE",
        "outputId": "65d0f0f8-efa7-4baa-c880-36aa3009843c"
      },
      "outputs": [
        {
          "data": {
            "image/png": "[encoded data removed]",
            "text/plain": [
              "<Figure size 720x720 with 1 Axes>"
            ]
          },
          "metadata": {
            "needs_background": "light"
          },
          "output_type": "display_data"
        }
      ],
      "source": [
        "#print(\"Accuracy\\n\" + acc_all.mean().to_string())\n",
        "\n",
        "ax = acc_all.plot.bar(figsize=(10, 10))\n",
        "for p in ax.patches:\n",
        "    ax.annotate(str(p.get_height().round(3)), (p.get_x()*0.985, p.get_height()*1.002))\n",
        "plt.ylim((0.7, 1.0))\n",
        "plt.xticks(rotation=0)\n",
        "plt.title(\"All Classifier Accuracies\")\n",
        "plt.grid()\n",
        "plt.show()"
      ]
    },
    {
      "cell_type": "markdown",
      "metadata": {
        "papermill": {
          "duration": 0.075851,
          "end_time": "2020-10-02T07:23:27.710393",
          "exception": false,
          "start_time": "2020-10-02T07:23:27.634542",
          "status": "completed"
        },
        "tags": [],
        "id": "MxcGLA5aBVsE"
      },
      "source": [
        "From the result above, the mean accuracy of feature-selected data is slightly higher (0.3% higher) than the mean accuracy of the original data. The model that has the best accuracy is Support Vector Machine trained on feature-selected data with 79.6% accuracy. Multi-layer Perceptron accuracy improved by 2.3% with training on feature-selected data. But, there are some classifiers (Naive Bayes, k-Nearest Neighbors, Stochastic Gradient Descent, and AdaBoost) that don't get the advantage from training on feature-selected data.\n",
        "\n",
        "To ensure this result, evaluate the model by using cross-validation."
      ]
    },
    {
      "cell_type": "markdown",
      "metadata": {
        "papermill": {
          "duration": 0.071594,
          "end_time": "2020-10-02T07:23:27.858594",
          "exception": false,
          "start_time": "2020-10-02T07:23:27.787000",
          "status": "completed"
        },
        "tags": [],
        "id": "aT6_OkU9BVsF"
      },
      "source": [
        "<a id='Model-Evaluation'></a>\n",
        "# D. Model Evaluation"
      ]
    },
    {
      "cell_type": "markdown",
      "metadata": {
        "papermill": {
          "duration": 0.078078,
          "end_time": "2020-10-02T07:23:28.010481",
          "exception": false,
          "start_time": "2020-10-02T07:23:27.932403",
          "status": "completed"
        },
        "tags": [],
        "id": "jA1r65aKBVsF"
      },
      "source": [
        "To validate the accuracy result and evaluate the performance of these two models furthermore, do k-fold cross-validation with $k = 10$ on the whole dataset.\n",
        "Metrics to validate are: accuracy, and ROC AUC score."
      ]
    },
    {
      "cell_type": "code",
      "execution_count": null,
      "metadata": {
        "execution": {
          "iopub.execute_input": "2020-10-02T07:23:28.173881Z",
          "iopub.status.busy": "2020-10-02T07:23:28.172954Z",
          "iopub.status.idle": "2020-10-02T07:28:35.718655Z",
          "shell.execute_reply": "2020-10-02T07:28:35.719655Z"
        },
        "papermill": {
          "duration": 307.636815,
          "end_time": "2020-10-02T07:28:35.719874",
          "exception": false,
          "start_time": "2020-10-02T07:23:28.083059",
          "status": "completed"
        },
        "tags": [],
        "id": "6g6yLZT4BVsF",
        "outputId": "c02ba640-ab3e-4db2-c252-c5ee11ba9295"
      },
      "outputs": [
        {
          "data": {
            "image/png": "[encoded data removed]",
            "text/plain": [
              "<Figure size 576x432 with 1 Axes>"
            ]
          },
          "metadata": {
            "needs_background": "light"
          },
          "output_type": "display_data"
        }
      ],
      "source": [
        "from sklearn.model_selection import cross_val_predict\n",
        "from sklearn.metrics import roc_curve, auc\n",
        "\n",
        "# scoring = [\"accuracy\", \"roc_auc\"]\n",
        "\n",
        "# scores = []\n",
        "# # Feature-selected dataset\n",
        "# print(\"Cross-validation on feature-selected data: started!\")\n",
        "# for clf_name, clf in clfs_rfe.items():\n",
        "#     score = pd.DataFrame(cross_validate(clf, X_rfe, y, cv=StratifiedKFold(10, random_state=random_state, shuffle=True), scoring=scoring)).mean()\n",
        "#     scores.append(score)\n",
        "#     print(clf_name, \"cross-validation: done!\")\n",
        "# cv_scores_rfe = pd.concat(scores, axis=1).rename(columns=dict(zip(range(len(clf_keys)), clf_keys)))\n",
        "# print(\"Cross-validation on feature-selected data: done!\")\n",
        "\n",
        "# Plot the AUC-ROC curve for all classifiers on one graph\n",
        "plt.figure(figsize=(8, 6))\n",
        "for clf_name in clf_keys:\n",
        "    y_scores = cross_val_predict(clfs_rfe[clf_name], X_rfe, y, cv=StratifiedKFold(10, random_state=random_state, shuffle=True), method=\"predict_proba\")[:, 1]\n",
        "    fpr, tpr, thresholds = roc_curve(y, y_scores)\n",
        "    roc_auc = auc(fpr, tpr)\n",
        "\n",
        "    plt.plot(fpr, tpr, label='ROC curve - %s (AUC = %.3f)' % (clf_name, roc_auc))\n",
        "\n",
        "plt.plot([0, 1], [0, 1], 'k--')\n",
        "plt.xlim([0.0, 1.0])\n",
        "plt.ylim([0.0, 1.05])\n",
        "plt.xlabel('False Positive Rate')\n",
        "plt.ylabel('True Positive Rate')\n",
        "plt.title('Receiver Operating Characteristic - All Classifiers')\n",
        "plt.legend(loc=\"lower right\")\n",
        "plt.savefig('AUC_2')\n",
        "plt.show()\n"
      ]
    },
    {
      "cell_type": "code",
      "execution_count": null,
      "metadata": {
        "id": "JUxSdXLJBVsG",
        "outputId": "5be6a454-3238-451d-e81e-bf5fe7347de9"
      },
      "outputs": [
        {
          "name": "stdout",
          "output_type": "stream",
          "text": [
            "Cross-validation on feature-selected data: started!\n",
            "Logistic Regression cross-validation: done!\n",
            "XGBoost cross-validation: done!\n",
            "Random Forest cross-validation: done!\n",
            "Cross-validation on feature-selected data: done!\n",
            "Cross-validation ROC AUC score for feature-selected data:\n",
            "0.9036324625168897\n",
            "Cross-validation F1 score for feature-selected data:\n",
            "0.41980320674485333\n"
          ]
        },
        {
          "data": {
            "image/png": "[encoded data removed]",
            "text/plain": [
              "<Figure size 720x576 with 1 Axes>"
            ]
          },
          "metadata": {
            "needs_background": "light"
          },
          "output_type": "display_data"
        },
        {
          "data": {
            "image/png": "[encoded data removed]",
            "text/plain": [
              "<Figure size 720x576 with 1 Axes>"
            ]
          },
          "metadata": {
            "needs_background": "light"
          },
          "output_type": "display_data"
        }
      ],
      "source": [
        "from sklearn.model_selection import cross_validate\n",
        "from sklearn.metrics import roc_curve, auc, f1_score\n",
        "\n",
        "scoring = [\"accuracy\", \"roc_auc\", \"f1\"]\n",
        "\n",
        "scores = []\n",
        "# Feature-selected dataset\n",
        "print(\"Cross-validation on feature-selected data: started!\")\n",
        "for clf_name, clf in clfs_rfe.items():\n",
        "    score = pd.DataFrame(cross_validate(clf, X_rfe, y, cv=StratifiedKFold(10, random_state=random_state, shuffle=True), scoring=scoring)).mean()\n",
        "    scores.append(score)\n",
        "    print(clf_name, \"cross-validation: done!\")\n",
        "cv_scores_rfe = pd.concat(scores, axis=1).rename(columns=dict(zip(range(len(clf_keys)), clf_keys)))\n",
        "print(\"Cross-validation on feature-selected data: done!\")\n",
        "\n",
        "cv_roc_auc_selected = cv_scores_rfe.loc[\"test_roc_auc\"].rename(\"Feature-selected data\")\n",
        "mean_roc_auc_selected = cv_roc_auc_selected.mean()\n",
        "\n",
        "cv_f1_selected = cv_scores_rfe.loc[\"test_f1\"].rename(\"Feature-selected data\")\n",
        "mean_f1_selected = cv_f1_selected.mean()\n",
        "\n",
        "print(\"Cross-validation ROC AUC score for feature-selected data:\\n\" + str(mean_roc_auc_selected))\n",
        "print(\"Cross-validation F1 score for feature-selected data:\\n\" + str(mean_f1_selected))\n",
        "\n",
        "ax = cv_roc_auc_selected.plot.bar(figsize=(10, 8))\n",
        "for p in ax.patches:\n",
        "    ax.annotate(str(p.get_height().round(3)), (p.get_x() * 0.985, p.get_height() * 1.003))\n",
        "plt.xticks(rotation=0)\n",
        "plt.ylim((0.63, 1.0))\n",
        "plt.title(\"Cross-validation ROC AUC Score (Feature-selected data)\")\n",
        "plt.grid()\n",
        "plt.show()\n",
        "\n",
        "ax = cv_f1_selected.plot.bar(figsize=(10, 8))\n",
        "for p in ax.patches:\n",
        "    ax.annotate(str(p.get_height().round(3)), (p.get_x() * 0.985, p.get_height() * 1.003))\n",
        "plt.xticks(rotation=0)\n",
        "plt.ylim((0.0, 1.0))\n",
        "plt.title(\"Cross-validation F1 Score (Feature-selected data)\")\n",
        "plt.grid()\n",
        "plt.show()\n"
      ]
    },
    {
      "cell_type": "markdown",
      "metadata": {
        "papermill": {
          "duration": 0.079556,
          "end_time": "2020-10-02T07:28:35.881153",
          "exception": false,
          "start_time": "2020-10-02T07:28:35.801597",
          "status": "completed"
        },
        "tags": [],
        "id": "6-2pcXZEBVsG"
      },
      "source": [
        "Let's visualize cross-validation accuracy, ROC AUC score, and fit time results."
      ]
    },
    {
      "cell_type": "code",
      "execution_count": null,
      "metadata": {
        "execution": {
          "iopub.execute_input": "2020-10-02T07:28:36.061901Z",
          "iopub.status.busy": "2020-10-02T07:28:36.051320Z",
          "iopub.status.idle": "2020-10-02T07:28:36.411954Z",
          "shell.execute_reply": "2020-10-02T07:28:36.411211Z"
        },
        "papermill": {
          "duration": 0.451283,
          "end_time": "2020-10-02T07:28:36.412101",
          "exception": false,
          "start_time": "2020-10-02T07:28:35.960818",
          "status": "completed"
        },
        "tags": [],
        "id": "L1VSxmRvBVsH",
        "outputId": "0ef2b4bd-1e47-46fa-bd77-3c67b1659b9b"
      },
      "outputs": [
        {
          "name": "stdout",
          "output_type": "stream",
          "text": [
            "Cross-validation accuracy for feature-selected data:\n",
            "0.899601412788067\n"
          ]
        },
        {
          "data": {
            "image/png": "[encoded data removed]",
            "text/plain": [
              "<Figure size 720x576 with 1 Axes>"
            ]
          },
          "metadata": {
            "needs_background": "light"
          },
          "output_type": "display_data"
        }
      ],
      "source": [
        "cv_acc_selected = cv_scores_rfe.loc[\"test_accuracy\"].rename(\"Feature-selected data\")\n",
        "mean_acc_selected = cv_acc_selected.mean()\n",
        "\n",
        "print(\"Cross-validation accuracy for feature-selected data:\\n\" + str(mean_acc_selected))\n",
        "ax = cv_acc_selected.plot.bar(figsize=(10, 8))\n",
        "for p in ax.patches:\n",
        "    ax.annotate(str(p.get_height().round(3)), (p.get_x()*0.985, p.get_height()*1.003))\n",
        "plt.xticks(rotation=0)\n",
        "plt.ylim((0.7, 1.0))\n",
        "plt.title(\"Cross-validation Accuracy (Feature-selected data)\")\n",
        "plt.grid()\n",
        "plt.show()\n"
      ]
    },
    {
      "cell_type": "code",
      "execution_count": null,
      "metadata": {
        "execution": {
          "iopub.execute_input": "2020-10-02T07:28:36.595530Z",
          "iopub.status.busy": "2020-10-02T07:28:36.592222Z",
          "iopub.status.idle": "2020-10-02T07:28:36.940420Z",
          "shell.execute_reply": "2020-10-02T07:28:36.941082Z"
        },
        "papermill": {
          "duration": 0.446497,
          "end_time": "2020-10-02T07:28:36.941262",
          "exception": false,
          "start_time": "2020-10-02T07:28:36.494765",
          "status": "completed"
        },
        "scrolled": true,
        "tags": [],
        "id": "t5Zt6srGBVsH",
        "outputId": "7d33a055-aa62-47b8-d91f-5f8174921d74"
      },
      "outputs": [
        {
          "name": "stdout",
          "output_type": "stream",
          "text": [
            "Cross-validation ROC AUC score for feature-selected data:\n",
            "0.9036324625168897\n"
          ]
        },
        {
          "data": {
            "image/png": "[encoded data removed]",
            "text/plain": [
              "<Figure size 720x576 with 1 Axes>"
            ]
          },
          "metadata": {
            "needs_background": "light"
          },
          "output_type": "display_data"
        }
      ],
      "source": [
        "cv_roc_auc_selected = cv_scores_rfe.loc[\"test_roc_auc\"].rename(\"Feature-selected data\")\n",
        "mean_roc_auc_selected = cv_roc_auc_selected.mean()\n",
        "\n",
        "print(\"Cross-validation ROC AUC score for feature-selected data:\\n\" + str(mean_roc_auc_selected))\n",
        "ax = cv_roc_auc_selected.plot.bar(figsize=(10, 8))\n",
        "for p in ax.patches:\n",
        "    ax.annotate(str(p.get_height().round(3)), (p.get_x()*0.985, p.get_height()*1.003))\n",
        "plt.xticks(rotation=0)\n",
        "plt.ylim((0.63, 1.0))\n",
        "plt.title(\"Cross-validation ROC AUC Score (Feature-selected data)\")\n",
        "plt.grid()\n",
        "plt.show()\n"
      ]
    }
  ],
  "metadata": {
    "kernelspec": {
      "display_name": "Python 3",
      "language": "python",
      "name": "python3"
    },
    "language_info": {
      "codemirror_mode": {
        "name": "ipython",
        "version": 3
      },
      "file_extension": ".py",
      "mimetype": "text/x-python",
      "name": "python",
      "nbconvert_exporter": "python",
      "pygments_lexer": "ipython3",
      "version": "3.8.5"
    },
    "papermill": {
      "duration": 368.502835,
      "end_time": "2020-10-02T07:28:42.413115",
      "environment_variables": {},
      "exception": null,
      "input_path": "__notebook__.ipynb",
      "output_path": "__notebook__.ipynb",
      "parameters": {},
      "start_time": "2020-10-02T07:22:33.910280",
      "version": "2.1.0"
    },
    "colab": {
      "provenance": []
    }
  },
  "nbformat": 4,
  "nbformat_minor": 0
}